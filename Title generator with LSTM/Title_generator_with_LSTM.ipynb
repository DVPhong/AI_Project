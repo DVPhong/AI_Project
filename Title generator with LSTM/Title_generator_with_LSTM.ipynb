{
  "nbformat": 4,
  "nbformat_minor": 0,
  "metadata": {
    "colab": {
      "provenance": [],
      "authorship_tag": "ABX9TyPurxYSPznpvQCRfO86SRMW",
      "include_colab_link": true
    },
    "kernelspec": {
      "name": "python3",
      "display_name": "Python 3"
    },
    "language_info": {
      "name": "python"
    }
  },
  "cells": [
    {
      "cell_type": "markdown",
      "metadata": {
        "id": "view-in-github",
        "colab_type": "text"
      },
      "source": [
        "<a href=\"https://colab.research.google.com/github/DVPhong/AI_Project/blob/main/Title%20generator%20with%20LSTM/Title_generator_with_LSTM.ipynb\" target=\"_parent\"><img src=\"https://colab.research.google.com/assets/colab-badge.svg\" alt=\"Open In Colab\"/></a>"
      ]
    },
    {
      "cell_type": "code",
      "execution_count": 1,
      "metadata": {
        "id": "WpIehfvminXB"
      },
      "outputs": [],
      "source": [
        "import numpy as np\n",
        "import pandas as pd\n",
        "import tensorflow as tf\n",
        "import string\n",
        "import json"
      ]
    },
    {
      "cell_type": "code",
      "source": [
        "from google.colab import drive\n",
        "drive.mount('/content/drive', force_remount=True)"
      ],
      "metadata": {
        "id": "u-Usuq5De2FX",
        "outputId": "1238a83d-e810-4d3f-8fc3-6f8d06e3a11d",
        "colab": {
          "base_uri": "https://localhost:8080/"
        }
      },
      "execution_count": 3,
      "outputs": [
        {
          "output_type": "stream",
          "name": "stdout",
          "text": [
            "Mounted at /content/drive\n"
          ]
        }
      ]
    },
    {
      "cell_type": "code",
      "source": [
        "!pip install unrar\n",
        "!unrar x '/content/drive/MyDrive/Colab Notebooks/title generator/Data.rar'"
      ],
      "metadata": {
        "id": "E8bhkXqBfZ5C",
        "outputId": "c4e35b1d-87d4-477d-8b72-7490a2bd311b",
        "colab": {
          "base_uri": "https://localhost:8080/"
        }
      },
      "execution_count": 4,
      "outputs": [
        {
          "output_type": "stream",
          "name": "stdout",
          "text": [
            "Collecting unrar\n",
            "  Downloading unrar-0.4-py3-none-any.whl (25 kB)\n",
            "Installing collected packages: unrar\n",
            "Successfully installed unrar-0.4\n",
            "\n",
            "UNRAR 6.11 beta 1 freeware      Copyright (c) 1993-2022 Alexander Roshal\n",
            "\n",
            "\n",
            "Extracting from /content/drive/MyDrive/Colab Notebooks/title generator/Data.rar\n",
            "\n",
            "Creating    Data                                                      OK\n",
            "Extracting  Data/CAvideos.csv                                            \b\b\b\b 33%\b\b\b\b 59%\b\b\b\b\b  OK \n",
            "Extracting  Data/CA_category_id.json                                     \b\b\b\b 59%\b\b\b\b\b  OK \n",
            "Extracting  Data/GBvideos.csv                                            \b\b\b\b 75%\b\b\b\b\b  OK \n",
            "Extracting  Data/GB_category_id.json                                     \b\b\b\b 75%\b\b\b\b\b  OK \n",
            "Extracting  Data/USvideos.csv                                            \b\b\b\b 99%\b\b\b\b\b  OK \n",
            "Extracting  Data/US_category_id.json                                     \b\b\b\b 99%\b\b\b\b\b  OK \n",
            "All OK\n"
          ]
        }
      ]
    },
    {
      "cell_type": "code",
      "source": [],
      "metadata": {
        "id": "e5lk8c4lhM2F"
      },
      "execution_count": null,
      "outputs": []
    }
  ]
}