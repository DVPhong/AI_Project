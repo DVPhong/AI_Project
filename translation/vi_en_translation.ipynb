{
  "metadata": {
    "kernelspec": {
      "language": "python",
      "display_name": "Python 3",
      "name": "python3"
    },
    "language_info": {
      "name": "python",
      "version": "3.10.12",
      "mimetype": "text/x-python",
      "codemirror_mode": {
        "name": "ipython",
        "version": 3
      },
      "pygments_lexer": "ipython3",
      "nbconvert_exporter": "python",
      "file_extension": ".py"
    },
    "kaggle": {
      "accelerator": "none",
      "dataSources": [],
      "dockerImageVersionId": 30635,
      "isInternetEnabled": true,
      "language": "python",
      "sourceType": "notebook",
      "isGpuEnabled": false
    },
    "colab": {
      "provenance": [],
      "include_colab_link": true
    }
  },
  "nbformat_minor": 0,
  "nbformat": 4,
  "cells": [
    {
      "cell_type": "markdown",
      "metadata": {
        "id": "view-in-github",
        "colab_type": "text"
      },
      "source": [
        "<a href=\"https://colab.research.google.com/github/DVPhong/AI_Project/blob/main/translation/vi_en_translation.ipynb\" target=\"_parent\"><img src=\"https://colab.research.google.com/assets/colab-badge.svg\" alt=\"Open In Colab\"/></a>"
      ]
    },
    {
      "cell_type": "code",
      "source": [
        "import numpy as np\n",
        "import pandas as pd\n",
        "import tensorflow as tf\n",
        "from datasets import load_dataset,DatasetDict"
      ],
      "metadata": {
        "_uuid": "8f2839f25d086af736a60e9eeb907d3b93b6e0e5",
        "_cell_guid": "b1076dfc-b9ad-4769-8c92-a6c4dae69d19",
        "execution": {
          "iopub.status.busy": "2024-01-25T11:26:05.571915Z",
          "iopub.execute_input": "2024-01-25T11:26:05.572408Z",
          "iopub.status.idle": "2024-01-25T11:26:21.994724Z",
          "shell.execute_reply.started": "2024-01-25T11:26:05.572369Z",
          "shell.execute_reply": "2024-01-25T11:26:21.993474Z"
        },
        "trusted": true,
        "id": "FwV8wasAY_o3"
      },
      "execution_count": null,
      "outputs": []
    },
    {
      "cell_type": "code",
      "source": [
        "data = load_dataset('mt_eng_vietnamese','iwslt2015-en-vi')"
      ],
      "metadata": {
        "execution": {
          "iopub.status.busy": "2024-01-25T11:26:21.997069Z",
          "iopub.execute_input": "2024-01-25T11:26:21.997776Z",
          "iopub.status.idle": "2024-01-25T11:26:56.294041Z",
          "shell.execute_reply.started": "2024-01-25T11:26:21.997739Z",
          "shell.execute_reply": "2024-01-25T11:26:56.292865Z"
        },
        "trusted": true,
        "id": "6tns5vKYY_o-",
        "outputId": "b4103f0a-ba3a-4415-c6c4-d66c5e60605a",
        "colab": {
          "referenced_widgets": [
            "395ccf1380b0422288127fc4e50b2da1",
            "9f8e7a47d2dd424c90c5d5d9e2a1c248",
            "d39f3de5a2f843658e16916c36c10ae2",
            "54d8f1d15ff84085b1a8b06240fd5daa",
            "962cf0d2d0954923b29a98ae080acf02",
            "ea783127ad5f42cdb5eb82714c9fbec9",
            "952b6db16a4d495fae5de60915a8e5c9",
            "24778546543344b7a1bcff096d5758af",
            "",
            "80e9768d708349a9b2320f76af3adb91"
          ]
        }
      },
      "execution_count": null,
      "outputs": [
        {
          "output_type": "display_data",
          "data": {
            "text/plain": "Downloading builder script:   0%|          | 0.00/1.88k [00:00<?, ?B/s]",
            "application/vnd.jupyter.widget-view+json": {
              "version_major": 2,
              "version_minor": 0,
              "model_id": "395ccf1380b0422288127fc4e50b2da1"
            }
          },
          "metadata": {}
        },
        {
          "output_type": "display_data",
          "data": {
            "text/plain": "Downloading metadata:   0%|          | 0.00/1.08k [00:00<?, ?B/s]",
            "application/vnd.jupyter.widget-view+json": {
              "version_major": 2,
              "version_minor": 0,
              "model_id": "9f8e7a47d2dd424c90c5d5d9e2a1c248"
            }
          },
          "metadata": {}
        },
        {
          "name": "stdout",
          "text": "Downloading and preparing dataset mt_eng_vietnamese/iwslt2015-en-vi (download: 30.83 MiB, generated: 31.59 MiB, post-processed: Unknown size, total: 62.42 MiB) to /root/.cache/huggingface/datasets/mt_eng_vietnamese/iwslt2015-en-vi/1.0.0/53add551a01e9874588066f89d42925f9fad43db347199dad00f7e4b0c905a71...\n",
          "output_type": "stream"
        },
        {
          "output_type": "display_data",
          "data": {
            "text/plain": "Downloading data:   0%|          | 0.00/13.6M [00:00<?, ?B/s]",
            "application/vnd.jupyter.widget-view+json": {
              "version_major": 2,
              "version_minor": 0,
              "model_id": "d39f3de5a2f843658e16916c36c10ae2"
            }
          },
          "metadata": {}
        },
        {
          "output_type": "display_data",
          "data": {
            "text/plain": "Downloading data:   0%|          | 0.00/18.1M [00:00<?, ?B/s]",
            "application/vnd.jupyter.widget-view+json": {
              "version_major": 2,
              "version_minor": 0,
              "model_id": "54d8f1d15ff84085b1a8b06240fd5daa"
            }
          },
          "metadata": {}
        },
        {
          "output_type": "display_data",
          "data": {
            "text/plain": "Downloading data:   0%|          | 0.00/140k [00:00<?, ?B/s]",
            "application/vnd.jupyter.widget-view+json": {
              "version_major": 2,
              "version_minor": 0,
              "model_id": "962cf0d2d0954923b29a98ae080acf02"
            }
          },
          "metadata": {}
        },
        {
          "output_type": "display_data",
          "data": {
            "text/plain": "Downloading data:   0%|          | 0.00/188k [00:00<?, ?B/s]",
            "application/vnd.jupyter.widget-view+json": {
              "version_major": 2,
              "version_minor": 0,
              "model_id": "ea783127ad5f42cdb5eb82714c9fbec9"
            }
          },
          "metadata": {}
        },
        {
          "output_type": "display_data",
          "data": {
            "text/plain": "Downloading data:   0%|          | 0.00/132k [00:00<?, ?B/s]",
            "application/vnd.jupyter.widget-view+json": {
              "version_major": 2,
              "version_minor": 0,
              "model_id": "952b6db16a4d495fae5de60915a8e5c9"
            }
          },
          "metadata": {}
        },
        {
          "output_type": "display_data",
          "data": {
            "text/plain": "Downloading data:   0%|          | 0.00/184k [00:00<?, ?B/s]",
            "application/vnd.jupyter.widget-view+json": {
              "version_major": 2,
              "version_minor": 0,
              "model_id": "24778546543344b7a1bcff096d5758af"
            }
          },
          "metadata": {}
        },
        {
          "output_type": "display_data",
          "data": {
            "text/plain": "Generating train split:   0%|          | 0/133318 [00:00<?, ? examples/s]",
            "application/vnd.jupyter.widget-view+json": {
              "version_major": 2,
              "version_minor": 0,
              "model_id": ""
            }
          },
          "metadata": {}
        },
        {
          "output_type": "display_data",
          "data": {
            "text/plain": "Generating validation split:   0%|          | 0/1269 [00:00<?, ? examples/s]",
            "application/vnd.jupyter.widget-view+json": {
              "version_major": 2,
              "version_minor": 0,
              "model_id": ""
            }
          },
          "metadata": {}
        },
        {
          "output_type": "display_data",
          "data": {
            "text/plain": "Generating test split:   0%|          | 0/1269 [00:00<?, ? examples/s]",
            "application/vnd.jupyter.widget-view+json": {
              "version_major": 2,
              "version_minor": 0,
              "model_id": ""
            }
          },
          "metadata": {}
        },
        {
          "name": "stdout",
          "text": "Dataset mt_eng_vietnamese downloaded and prepared to /root/.cache/huggingface/datasets/mt_eng_vietnamese/iwslt2015-en-vi/1.0.0/53add551a01e9874588066f89d42925f9fad43db347199dad00f7e4b0c905a71. Subsequent calls will reuse this data.\n",
          "output_type": "stream"
        },
        {
          "output_type": "display_data",
          "data": {
            "text/plain": "  0%|          | 0/3 [00:00<?, ?it/s]",
            "application/vnd.jupyter.widget-view+json": {
              "version_major": 2,
              "version_minor": 0,
              "model_id": "80e9768d708349a9b2320f76af3adb91"
            }
          },
          "metadata": {}
        }
      ]
    },
    {
      "cell_type": "code",
      "source": [
        "data"
      ],
      "metadata": {
        "execution": {
          "iopub.status.busy": "2024-01-25T11:27:27.250218Z",
          "iopub.execute_input": "2024-01-25T11:27:27.250702Z",
          "iopub.status.idle": "2024-01-25T11:27:27.258833Z",
          "shell.execute_reply.started": "2024-01-25T11:27:27.250656Z",
          "shell.execute_reply": "2024-01-25T11:27:27.257532Z"
        },
        "trusted": true,
        "id": "Ic9-hPUaY_pC",
        "outputId": "b03f2ffb-f563-4ecf-d80f-9ae2335b980f"
      },
      "execution_count": null,
      "outputs": [
        {
          "execution_count": 8,
          "output_type": "execute_result",
          "data": {
            "text/plain": "DatasetDict({\n    train: Dataset({\n        features: ['translation'],\n        num_rows: 133318\n    })\n    validation: Dataset({\n        features: ['translation'],\n        num_rows: 1269\n    })\n    test: Dataset({\n        features: ['translation'],\n        num_rows: 1269\n    })\n})"
          },
          "metadata": {}
        }
      ]
    },
    {
      "cell_type": "code",
      "source": [
        "# data['train']['translation']"
      ],
      "metadata": {
        "trusted": true,
        "id": "jytHqwkKY_pG"
      },
      "execution_count": null,
      "outputs": []
    },
    {
      "cell_type": "code",
      "source": [
        "data['train']['translation'][0]['en']"
      ],
      "metadata": {
        "execution": {
          "iopub.status.busy": "2024-01-25T11:26:57.961231Z",
          "iopub.execute_input": "2024-01-25T11:26:57.961795Z",
          "iopub.status.idle": "2024-01-25T11:26:59.604234Z",
          "shell.execute_reply.started": "2024-01-25T11:26:57.961763Z",
          "shell.execute_reply": "2024-01-25T11:26:59.603016Z"
        },
        "trusted": true,
        "id": "YWRxhaOTY_pI",
        "outputId": "3058f0f6-874d-4b16-c7c8-aadf015c9068"
      },
      "execution_count": null,
      "outputs": [
        {
          "execution_count": 6,
          "output_type": "execute_result",
          "data": {
            "text/plain": "'Rachel Pike : The science behind a climate headline'"
          },
          "metadata": {}
        }
      ]
    },
    {
      "cell_type": "code",
      "source": [
        "def get_data(dataset:DatasetDict, purpose):\n",
        "    X = [en['en'] for en in data[purpose]['translation']]\n",
        "    y = [vi['vi'] for vi in data[purpose]['translation']]\n",
        "    return X, y\n",
        "\n",
        "X_train, y_train = get_data(data, 'train')\n",
        "print(X_train[0])\n",
        "print(y_train[0])"
      ],
      "metadata": {
        "execution": {
          "iopub.status.busy": "2024-01-25T11:26:59.605993Z",
          "iopub.execute_input": "2024-01-25T11:26:59.606341Z",
          "iopub.status.idle": "2024-01-25T11:27:02.701704Z",
          "shell.execute_reply.started": "2024-01-25T11:26:59.606311Z",
          "shell.execute_reply": "2024-01-25T11:27:02.700709Z"
        },
        "trusted": true,
        "id": "AG-ZEsUKY_pJ",
        "outputId": "1c2f48aa-2a3e-4566-f077-0cdeab759512"
      },
      "execution_count": null,
      "outputs": [
        {
          "name": "stdout",
          "text": "Rachel Pike : The science behind a climate headline\nKhoa học đằng sau một tiêu đề về khí hậu\n",
          "output_type": "stream"
        }
      ]
    },
    {
      "cell_type": "code",
      "source": [],
      "metadata": {
        "id": "Fqd_l0lFY_pL"
      },
      "execution_count": null,
      "outputs": []
    }
  ]
}